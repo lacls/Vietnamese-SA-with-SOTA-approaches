{
  "nbformat": 4,
  "nbformat_minor": 0,
  "metadata": {
    "colab": {
      "name": "Data Augmentation.ipynb",
      "provenance": [],
      "collapsed_sections": [
        "OAiIQ70HDrk4",
        "w_LLaMpbA3B6",
        "pMtpiqvRDDmo",
        "GZOqh1iuDx5Z"
      ],
      "toc_visible": true,
      "mount_file_id": "1OMC9hZIks4siAUHSs406RII_wdvVaGhI",
      "authorship_tag": "ABX9TyO2vDJTpiVeJrk/ZzJMZnk2",
      "include_colab_link": true
    },
    "kernelspec": {
      "name": "python3",
      "display_name": "Python 3"
    }
  },
  "cells": [
    {
      "cell_type": "markdown",
      "metadata": {
        "id": "view-in-github",
        "colab_type": "text"
      },
      "source": [
        "<a href=\"https://colab.research.google.com/github/lacls/Vietnamese-SA-with-SOTA-approaches/blob/master/Data_Augmentation.ipynb\" target=\"_parent\"><img src=\"https://colab.research.google.com/assets/colab-badge.svg\" alt=\"Open In Colab\"/></a>"
      ]
    },
    {
      "cell_type": "markdown",
      "metadata": {
        "id": "Md-C8R7ce_sm"
      },
      "source": [
        "## Read file"
      ]
    },
    {
      "cell_type": "code",
      "metadata": {
        "id": "2JFy3qbRfDJF"
      },
      "source": [
        "# Install colab_ssh on google colab\n",
        "!pip install colab_ssh --upgrade\n",
        "\n",
        "from colab_ssh import launch_ssh_cloudflared, init_git_cloudflared\n",
        "launch_ssh_cloudflared(password=\"str\")\n",
        "\n",
        "# Optional: if you want to clone a github repository\n",
        "#init_git_cloudflared(githubRepositoryUrl)"
      ],
      "execution_count": null,
      "outputs": []
    },
    {
      "cell_type": "markdown",
      "metadata": {
        "id": "OAiIQ70HDrk4"
      },
      "source": [
        "## AVIVN"
      ]
    },
    {
      "cell_type": "code",
      "metadata": {
        "colab": {
          "base_uri": "https://localhost:8080/"
        },
        "id": "mEtbXtHDkpBW",
        "outputId": "4b72622c-ed3b-4c1b-9298-288c56b0baee"
      },
      "source": [
        "idx_=[]\n",
        "text=[]\n",
        "label=[]\n",
        "import collections\n",
        "##AVIVN\n",
        "\n",
        "with open(\"/content/drive/MyDrive/Thesis/Data/SA_demo/train.txt\",\"r\") as f:\n",
        "    bla=f.readlines()\n",
        "\n",
        "store_text=\"\"\n",
        "idx_=[]\n",
        "text=[]\n",
        "label=[]\n",
        "for value in bla:\n",
        "  value=value.replace(\"\\n\",\"\")\n",
        "  if value:\n",
        "    if \"train\" in value:\n",
        "      if store_text:\n",
        "        text.append(store_text)\n",
        "        store_text=\"\"\n",
        "        if len(text)!=len(label):\n",
        "          print(value)\n",
        "          break\n",
        "      idx_.append(value)\n",
        "    elif collections.Counter(value)['\"']==2:\n",
        "      text.append(value.replace('\"',\"\"))\n",
        "    elif value in [\"0\",\"1\",\"2\"]:\n",
        "        label.append(value)\n",
        "    else:\n",
        "      value=value.replace('\"',\"\")\n",
        "      store_text+=f\"{value} \"\n",
        "\n",
        "len(idx_),len(text),len(label)\n",
        "idx.pop(7493)\n",
        "\n"
      ],
      "execution_count": null,
      "outputs": [
        {
          "output_type": "execute_result",
          "data": {
            "text/plain": [
              "(7494, 7493, 7493)"
            ]
          },
          "metadata": {
            "tags": []
          },
          "execution_count": 141
        }
      ]
    },
    {
      "cell_type": "code",
      "metadata": {
        "colab": {
          "base_uri": "https://localhost:8080/"
        },
        "id": "dzJxje5qwbQk",
        "outputId": "40e1e9d2-10a4-4331-89a0-0d8fc703bb55"
      },
      "source": [
        "idx_=[]\n",
        "text=[]\n",
        "label=[]\n",
        "import collections\n",
        "##AVIVN\n",
        "\n",
        "with open(\"/content/drive/MyDrive/Thesis/Data/SA_demo/test.txt\",\"r\") as f:\n",
        "    bla=f.readlines()\n",
        "\n",
        "store_text=\"\"\n",
        "idx_=[]\n",
        "text=[]\n",
        "label=[]\n",
        "for value in bla:\n",
        "  value=value.replace(\"\\n\",\"\")\n",
        "  if value:\n",
        "    if \"test_\" in value:\n",
        "      if store_text:\n",
        "        text.append(store_text)\n",
        "        store_text=\"\"\n",
        "        if len(text)!=len(idx_):\n",
        "          break\n",
        "      idx_.append(value)\n",
        "    elif collections.Counter(value)['\"']==2:\n",
        "      text.append(value.replace('\"',\"\"))\n",
        "    # elif value in [\"0\",\"1\",\"2\"]:\n",
        "    #     label.append(value)\n",
        "    else:\n",
        "      value=value.replace('\"',\"\")\n",
        "      store_text+=f\"{value} \"\n",
        "\n",
        "len(idx_),len(text)\n"
      ],
      "execution_count": null,
      "outputs": [
        {
          "output_type": "execute_result",
          "data": {
            "text/plain": [
              "(10981, 10981)"
            ]
          },
          "metadata": {
            "tags": []
          },
          "execution_count": 156
        }
      ]
    },
    {
      "cell_type": "markdown",
      "metadata": {
        "id": "w_LLaMpbA3B6"
      },
      "source": [
        "## KSE"
      ]
    },
    {
      "cell_type": "code",
      "metadata": {
        "colab": {
          "base_uri": "https://localhost:8080/"
        },
        "id": "Q6U40l-pBDK_",
        "outputId": "9c60c1d6-e6b6-420f-f8a9-e29b89f2e794"
      },
      "source": [
        ""
      ],
      "execution_count": null,
      "outputs": [
        {
          "output_type": "execute_result",
          "data": {
            "text/plain": [
              "['train_nhan_0.txt', 'train_nhan_1.txt', 'train_nhan_2.txt']"
            ]
          },
          "metadata": {
            "tags": []
          },
          "execution_count": 160
        }
      ]
    },
    {
      "cell_type": "code",
      "metadata": {
        "id": "QIokZqLLA37U"
      },
      "source": [
        "idx_=[]\n",
        "text=[]\n",
        "label=[]\n",
        "import collections\n",
        "import os\n",
        "sentiment_Value=0\n",
        "for value in os.listdir('/content/drive/MyDrive/Thesis/Data/KSE/train/'):\n",
        "  with open(f\"/content/drive/MyDrive/Thesis/Data/KSE/train/{value}\",\"r\") as f:\n",
        "      data=f.readlines()\n",
        "      if \"_0\" in value:\n",
        "        sentiment_Value=0\n",
        "      elif \"_1\" in value:\n",
        "        sentiment_Value=1\n",
        "      else:\n",
        "        sentiment_Value=2\n",
        "      for h in data:\n",
        "        text.append(h)\n",
        "        label.append(sentiment_Value)\n",
        "        \n",
        "idx_=[]\n",
        "text=[]\n",
        "label=[]\n",
        "import collections\n",
        "import os\n",
        "sentiment_Value=0\n",
        "for value in os.listdir('/content/drive/MyDrive/Thesis/Data/KSE/test/'):\n",
        "  with open(f\"/content/drive/MyDrive/Thesis/Data/KSE/test/{value}\",\"r\") as f:\n",
        "      data=f.readlines()\n",
        "      if \"_0\" in value:\n",
        "        sentiment_Value=0\n",
        "      elif \"_1\" in value:\n",
        "        sentiment_Value=1\n",
        "      else:\n",
        "        sentiment_Value=2\n",
        "      for h in data:\n",
        "        text.append(h)\n",
        "        label.append(sentiment_Value)\n"
      ],
      "execution_count": null,
      "outputs": []
    },
    {
      "cell_type": "markdown",
      "metadata": {
        "id": "pMtpiqvRDDmo"
      },
      "source": [
        "## UIT-VSFC"
      ]
    },
    {
      "cell_type": "code",
      "metadata": {
        "id": "dUrlOLUcCL6_"
      },
      "source": [
        "idx_=[]\n",
        "text=[]\n",
        "label=[]\n",
        "import collections\n",
        "import os\n",
        "with open(f\"/content/drive/MyDrive/Thesis/Data/UIT-VSFC/train/sents.txt\",\"r\") as f:\n",
        "    text=f.readlines()\n",
        "\n",
        "with open(f\"/content/drive/MyDrive/Thesis/Data/UIT-VSFC/train/sentiments.txt\",\"r\") as f:\n",
        "    label=f.readlines()\n",
        "\n",
        "\n",
        "\n",
        "with open(f\"/content/drive/MyDrive/Thesis/Data/UIT-VSFC/dev/sents.txt\",\"r\") as f:\n",
        "    text=f.readlines()\n",
        "\n",
        "with open(f\"/content/drive/MyDrive/Thesis/Data/UIT-VSFC/dev/sentiments.txt\",\"r\") as f:\n",
        "    label=f.readlines()\n",
        "\n",
        "\n",
        "\n",
        "with open(f\"/content/drive/MyDrive/Thesis/Data/UIT-VSFC/test/sents.txt\",\"r\") as f:\n",
        "    text=f.readlines()\n",
        "\n",
        "with open(f\"/content/drive/MyDrive/Thesis/Data/UIT-VSFC/test/sentiments.txt\",\"r\") as f:\n",
        "    label=f.readlines()"
      ],
      "execution_count": null,
      "outputs": []
    },
    {
      "cell_type": "markdown",
      "metadata": {
        "id": "GZOqh1iuDx5Z"
      },
      "source": [
        "## VLSP"
      ]
    },
    {
      "cell_type": "code",
      "metadata": {
        "id": "g7D-mBsFDxow"
      },
      "source": [
        "with open(\"/content/drive/MyDrive/Thesis/Data/VLSP 2016/SA2016-training_data/SA-training_positive.txt\",\"r\") as f:\n",
        "    bla=f.read().splitlines() \n",
        "    text=[h for h in bla if h!=\"\"]\n",
        "    sentiment=[1]*len(text)\n",
        "with open(\"/content/drive/MyDrive/Thesis/Data/VLSP 2016/SA2016-training_data/SA-training_neutral.txt\",\"r\") as f:\n",
        "    bla=f.read().splitlines() \n",
        "    text=[h for h in bla if h!=\"\"]\n",
        "    sentiment=[-1]*len(text)\n",
        "\n",
        "with open(\"/content/drive/MyDrive/Thesis/Data/VLSP 2016/SA2016-training_data/SA-training_negative.txt\",\"r\") as f:\n",
        "    bla=f.read().splitlines() \n",
        "    text=[h for h in bla if h!=\"\"]\n",
        "    sentiment=[0]*len(text)\n",
        "\n"
      ],
      "execution_count": null,
      "outputs": []
    },
    {
      "cell_type": "code",
      "metadata": {
        "id": "V-WaoZGPDtXX"
      },
      "source": [
        "text=[]\n",
        "sentiment=[]\n",
        "with open(\"/content/drive/MyDrive/Thesis/Data/VLSP 2016/SA2016-TestData-Ans/test_raw_ANS.txt\",\"r\") as f:\n",
        "    bla=f.read().splitlines() \n",
        "    for index, value in enumerate(bla):\n",
        "      if index%2==0:\n",
        "        text.append(value)\n",
        "      else:\n",
        "        if value==\"POS\":\n",
        "          sentiment.append(1)\n",
        "        elif value==\"NEU\":\n",
        "          sentiment.append(0)\n",
        "        else:\n",
        "          sentiment.append(-1)\n"
      ],
      "execution_count": null,
      "outputs": []
    },
    {
      "cell_type": "markdown",
      "metadata": {
        "id": "1F2PJhaHFXCL"
      },
      "source": [
        "## HOTEL"
      ]
    },
    {
      "cell_type": "code",
      "metadata": {
        "id": "zv_8vLPwFpRt"
      },
      "source": [
        "import re\n",
        "sentiment=[]\n",
        "text=[]\n",
        "datContent = [i for i in open(\"/content/drive/MyDrive/Thesis/Data/data1Wordalltrain.dat\").readlines()]\n",
        "for h in datContent:\n",
        "  string=\"\"\n",
        "  for value in h.split(\" \"):\n",
        "    if \"NEGA\" in value:\n",
        "      sentiment.append(-1)\n",
        "    elif \"POS\" in value:\n",
        "      sentiment.append(1)\n",
        "    elif \"NEU\" in value:\n",
        "      sentiment.append(0)\n",
        "    else:\n",
        "      value_=re.sub(\"[\\/].*$\",\"\",value)\n",
        "      string.join(f'{value_} ')\n",
        "  text.append(string)\n",
        "  if len(sentiment)!=len(text):\n",
        "    break\n",
        "    print(string)\n",
        "  "
      ],
      "execution_count": null,
      "outputs": []
    },
    {
      "cell_type": "markdown",
      "metadata": {
        "id": "q3Tm5yv-LdBx"
      },
      "source": [
        ""
      ]
    },
    {
      "cell_type": "code",
      "metadata": {
        "id": "J0MZbhB5LeMZ",
        "colab": {
          "base_uri": "https://localhost:8080/"
        },
        "outputId": "1f3f00b7-b113-4ee8-c9eb-d181bdf8152d"
      },
      "source": [
        "!git init\n",
        "!git add README.md\n",
        "!git commit -m \"data loading\"\n",
        "!git branch -M main\n",
        "!git remote add origin https://github.com/lacls/Vietnamese-SA-with-SOTA-approaches.git\n",
        "!git push -u origin main"
      ],
      "execution_count": 253,
      "outputs": [
        {
          "output_type": "stream",
          "text": [
            "Initialized empty Git repository in /content/.git/\n",
            "fatal: pathspec 'README.md' did not match any files\n",
            "\n",
            "*** Please tell me who you are.\n",
            "\n",
            "Run\n",
            "\n",
            "  git config --global user.email \"you@example.com\"\n",
            "  git config --global user.name \"Your Name\"\n",
            "\n",
            "to set your account's default identity.\n",
            "Omit --global to set the identity only in this repository.\n",
            "\n",
            "fatal: unable to auto-detect email address (got 'root@faf15550d30c.(none)')\n",
            "error: refname refs/heads/master not found\n",
            "fatal: Branch rename failed\n",
            "error: src refspec main does not match any.\n",
            "error: failed to push some refs to 'https://github.com/lacls/Vietnamese-SA-with-SOTA-approaches.git'\n"
          ],
          "name": "stdout"
        }
      ]
    },
    {
      "cell_type": "code",
      "metadata": {
        "colab": {
          "base_uri": "https://localhost:8080/"
        },
        "id": "QFZcCl1gOaJp",
        "outputId": "90ae7b23-0b22-48c4-bd48-3544665fbb3c"
      },
      "source": [
        "!git clone https://github.com/lacls/Vietnamese-SA-with-SOTA-approaches.git"
      ],
      "execution_count": 256,
      "outputs": [
        {
          "output_type": "stream",
          "text": [
            "Cloning into 'Vietnamese-SA-with-SOTA-approaches'...\n",
            "warning: You appear to have cloned an empty repository.\n"
          ],
          "name": "stdout"
        }
      ]
    },
    {
      "cell_type": "code",
      "metadata": {
        "colab": {
          "base_uri": "https://localhost:8080/"
        },
        "id": "RGnu-DdzOsOO",
        "outputId": "317d1fe3-c100-405b-8e82-14b32de08067"
      },
      "source": [
        "!echo \"# Vietnamese-SA-with-SOTA-approaches\" >> README.md\n",
        "!git init\n",
        "!git add README.md\n",
        "!git commit -m \"first commit\"\n",
        "!git branch -M main\n",
        "!git remote add origin https://github.com/lacls/Vietnamese-SA-with-SOTA-approaches.git\n",
        "!git push -u origin main"
      ],
      "execution_count": 261,
      "outputs": [
        {
          "output_type": "stream",
          "text": [
            "Reinitialized existing Git repository in /content/.git/\n",
            "\n",
            "*** Please tell me who you are.\n",
            "\n",
            "Run\n",
            "\n",
            "  git config --global user.email \"you@example.com\"\n",
            "  git config --global user.name \"Your Name\"\n",
            "\n",
            "to set your account's default identity.\n",
            "Omit --global to set the identity only in this repository.\n",
            "\n",
            "fatal: unable to auto-detect email address (got 'root@faf15550d30c.(none)')\n",
            "error: refname refs/heads/master not found\n",
            "fatal: Branch rename failed\n",
            "fatal: remote origin already exists.\n",
            "error: src refspec main does not match any.\n",
            "error: failed to push some refs to 'https://github.com/lacls/Vietnamese-SA-with-SOTA-approaches.git'\n"
          ],
          "name": "stdout"
        }
      ]
    },
    {
      "cell_type": "code",
      "metadata": {
        "colab": {
          "base_uri": "https://localhost:8080/"
        },
        "id": "3N1wKfdNPwtX",
        "outputId": "35ff8a71-146d-418c-fed5-e5ec91bb4f8e"
      },
      "source": [
        "!echo \"# Vietnamese-SA-with-SOTA-approaches\" >> README.md\n",
        "!git init\n",
        "!git add README.md\n",
        "!git commit -m \"first commit\"\n",
        "!git branch -M main\n",
        "!git config --global user.email \"lacls1810@gmail.com\"\n",
        "!git config --global user.name \"lacls\"\n",
        "!git remote add origin https://github.com/lacls/Vietnamese-SA-with-SOTA-approaches.git\n",
        "!git push -u origin main"
      ],
      "execution_count": 265,
      "outputs": [
        {
          "output_type": "stream",
          "text": [
            "Reinitialized existing Git repository in /content/.git/\n",
            "[main f638959] first commit\n",
            " 1 file changed, 1 insertion(+)\n",
            "fatal: remote origin already exists.\n",
            "fatal: could not read Username for 'https://github.com': No such device or address\n"
          ],
          "name": "stdout"
        }
      ]
    },
    {
      "cell_type": "code",
      "metadata": {
        "id": "tjoZ-k9dQA1V"
      },
      "source": [
        ""
      ],
      "execution_count": null,
      "outputs": []
    }
  ]
}